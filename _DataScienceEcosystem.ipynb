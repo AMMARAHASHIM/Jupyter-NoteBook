{
 "cells": [
  {
   "cell_type": "markdown",
   "id": "078689e8-bd20-4cdd-9aff-47a4806b167c",
   "metadata": {},
   "source": [
    "# Data Science Tools and Ecosystem"
   ]
  },
  {
   "cell_type": "markdown",
   "id": "049a4ed5-ab41-4595-898a-5d100c3c7251",
   "metadata": {},
   "source": [
    "#### Introduction:\n",
    "In this notebook, Data Science Tools and Ecosystem are summarized."
   ]
  },
  {
   "cell_type": "code",
   "execution_count": 1,
   "id": "2534d948-9e7b-4407-a94f-77675f36e49c",
   "metadata": {},
   "outputs": [],
   "source": [
    "#Exercise 4 - Create a markdown cell to list data science languages"
   ]
  },
  {
   "cell_type": "markdown",
   "id": "3e5e4831-f97b-4ccd-871a-60b9cff47a58",
   "metadata": {},
   "source": [
    "###### Some of the popular languages that Data Scientists use are:\n",
    "1. Python , \n",
    "2. R , \n",
    "3. SQL , \n",
    "4. Scala ,\n",
    "5. julia , and\n",
    "6. SAS . "
   ]
  },
  {
   "cell_type": "code",
   "execution_count": 2,
   "id": "7af57799-4d1a-43f6-bc52-e12a268055fc",
   "metadata": {},
   "outputs": [],
   "source": [
    "#Exercise 6 - Create a markdown cell with a table of Data Science tools"
   ]
  },
  {
   "cell_type": "markdown",
   "id": "a086e7c9-0708-4395-9b00-7efc8ff63d3d",
   "metadata": {},
   "source": [
    "| Data Science Tools |\n",
    "|--------------------|\n",
    "|    Jupyter         |\n",
    "|    RStudio         |\n",
    "|        VS Code     | "
   ]
  },
  {
   "cell_type": "code",
   "execution_count": 4,
   "id": "a9b3f27c-bac2-4ef0-80a5-515ba39b7a27",
   "metadata": {},
   "outputs": [],
   "source": [
    "#Exercise 7 - Create a markdown cell introducing arithmetic expression examples"
   ]
  },
  {
   "cell_type": "markdown",
   "id": "207e85cf-260e-4a61-92b5-5d8c5f7f66c0",
   "metadata": {},
   "source": [
    "### Below are a few examples of evaluating arithmetic expressions in Python"
   ]
  },
  {
   "cell_type": "code",
   "execution_count": 8,
   "id": "4a4c2788-ce7d-4791-a36c-2c3ccb445ee3",
   "metadata": {},
   "outputs": [],
   "source": [
    "# Exercise 8 - Create a code cell to multiply and add numbers\n",
    "# This a simple arithmetic expression to mutiply then add integers"
   ]
  },
  {
   "cell_type": "code",
   "execution_count": 7,
   "id": "5eebddf1-9973-48ab-9f17-55215ed366ef",
   "metadata": {},
   "outputs": [
    {
     "data": {
      "text/plain": [
       "17"
      ]
     },
     "execution_count": 7,
     "metadata": {},
     "output_type": "execute_result"
    }
   ],
   "source": [
    "(3*4)+5"
   ]
  },
  {
   "cell_type": "code",
   "execution_count": 9,
   "id": "cab3c394-98e2-47cd-b7db-cfcdc6e98499",
   "metadata": {},
   "outputs": [],
   "source": [
    "#Exercise 9 - Create a code cell to convert minutes to hours"
   ]
  },
  {
   "cell_type": "code",
   "execution_count": 10,
   "id": "70625077-88b5-4a19-8cc8-5dbb58853707",
   "metadata": {},
   "outputs": [
    {
     "data": {
      "text/plain": [
       "3.3333333333333335"
      ]
     },
     "execution_count": 10,
     "metadata": {},
     "output_type": "execute_result"
    }
   ],
   "source": [
    "#This will convert 200 minutes to hours by diving by 60\n",
    "200/60"
   ]
  },
  {
   "cell_type": "code",
   "execution_count": 11,
   "id": "0576b8ea-0286-4859-9dc0-e57bc8be4134",
   "metadata": {},
   "outputs": [],
   "source": [
    "#Exercise 10 - Insert a markdown cell to list Objectives"
   ]
  },
  {
   "cell_type": "markdown",
   "id": "70a20d0d-8ae7-461e-b475-f29ac72c3795",
   "metadata": {},
   "source": [
    "**Objectives:**\n",
    "- Understood common languages and tools used in data science.\n",
    "- Explored open-source development environments like Jupyter and RStudio.\n",
    "- Practiced basic operations such as converting units and writing ordered lists in Markdown."
   ]
  },
  {
   "cell_type": "code",
   "execution_count": 12,
   "id": "2a033c5d-1c8a-4e13-a393-66d2187173cf",
   "metadata": {},
   "outputs": [],
   "source": [
    "#Exercise 11 - Create a markdown cell to indicate the Author's name"
   ]
  },
  {
   "cell_type": "markdown",
   "id": "b074dad2-aa1a-49a9-84e0-4186f072e604",
   "metadata": {},
   "source": [
    "### Author\n",
    "Ammara"
   ]
  },
  {
   "cell_type": "code",
   "execution_count": null,
   "id": "5046d44b-6dcb-4c6d-8063-176904f5f2e9",
   "metadata": {},
   "outputs": [],
   "source": []
  }
 ],
 "metadata": {
  "kernelspec": {
   "display_name": "Python [conda env:RP_Environment]",
   "language": "python",
   "name": "conda-env-RP_Environment-py"
  },
  "language_info": {
   "codemirror_mode": {
    "name": "ipython",
    "version": 3
   },
   "file_extension": ".py",
   "mimetype": "text/x-python",
   "name": "python",
   "nbconvert_exporter": "python",
   "pygments_lexer": "ipython3",
   "version": "3.13.5"
  }
 },
 "nbformat": 4,
 "nbformat_minor": 5
}
